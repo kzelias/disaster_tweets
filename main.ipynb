{
 "cells": [
  {
   "cell_type": "code",
   "execution_count": 1,
   "id": "57c0cc57",
   "metadata": {
    "execution": {
     "iopub.execute_input": "2023-03-30T12:46:48.849088Z",
     "iopub.status.busy": "2023-03-30T12:46:48.847750Z",
     "iopub.status.idle": "2023-03-30T12:46:48.881499Z",
     "shell.execute_reply": "2023-03-30T12:46:48.880677Z",
     "shell.execute_reply.started": "2023-03-30T12:46:48.849031Z"
    }
   },
   "outputs": [
    {
     "data": {
      "text/html": [
       "<style>\n",
       ".dataframe th {\n",
       "    font-size: 17px;\n",
       "}\n",
       ".dataframe td {\n",
       "    font-size: 16px;\n",
       "}\n",
       "</style>\n"
      ],
      "text/plain": [
       "<IPython.core.display.HTML object>"
      ]
     },
     "metadata": {},
     "output_type": "display_data"
    }
   ],
   "source": [
    "%%html\n",
    "<style>\n",
    ".dataframe th {\n",
    "    font-size: 17px;\n",
    "}\n",
    ".dataframe td {\n",
    "    font-size: 16px;\n",
    "}\n",
    "</style>"
   ]
  },
  {
   "cell_type": "code",
   "execution_count": null,
   "id": "1c16a85d",
   "metadata": {},
   "outputs": [],
   "source": [
    "# for kaggle\n",
    "# !pip install evaluate -q\n",
    "# import evaluate\n",
    "\n",
    "# for local venv\n",
    "# !pip install -r requirements.txt"
   ]
  },
  {
   "cell_type": "code",
   "execution_count": 2,
   "id": "c7308f6e",
   "metadata": {
    "execution": {
     "iopub.execute_input": "2023-03-30T12:46:55.439276Z",
     "iopub.status.busy": "2023-03-30T12:46:55.438874Z",
     "iopub.status.idle": "2023-03-30T12:46:55.444452Z",
     "shell.execute_reply": "2023-03-30T12:46:55.443106Z",
     "shell.execute_reply.started": "2023-03-30T12:46:55.439241Z"
    }
   },
   "outputs": [],
   "source": [
    "import pandas as pd\n",
    "import numpy as np"
   ]
  },
  {
   "cell_type": "code",
   "execution_count": 3,
   "id": "65ddd784",
   "metadata": {},
   "outputs": [],
   "source": [
    "from sklearn.model_selection import train_test_split\n",
    "from datasets import Dataset\n",
    "import re\n",
    "from transformers import AutoTokenizer, AutoModelForSequenceClassification, TrainingArguments, Trainer, DataCollatorWithPadding"
   ]
  },
  {
   "cell_type": "code",
   "execution_count": 73,
   "id": "c3500065",
   "metadata": {},
   "outputs": [
    {
     "data": {
      "text/plain": [
       "True"
      ]
     },
     "execution_count": 73,
     "metadata": {},
     "output_type": "execute_result"
    }
   ],
   "source": [
    "import torch\n",
    "torch.cuda.is_available()"
   ]
  },
  {
   "cell_type": "code",
   "execution_count": 7,
   "id": "97a323f4",
   "metadata": {
    "execution": {
     "iopub.execute_input": "2023-03-30T15:32:27.043613Z",
     "iopub.status.busy": "2023-03-30T15:32:27.043078Z",
     "iopub.status.idle": "2023-03-30T15:32:27.091069Z",
     "shell.execute_reply": "2023-03-30T15:32:27.089934Z",
     "shell.execute_reply.started": "2023-03-30T15:32:27.043572Z"
    }
   },
   "outputs": [],
   "source": [
    "df = pd.read_csv('train.csv')\n",
    "# for kaggle\n",
    "# df = pd.read_csv('/kaggle/input/nlp-getting-started/train.csv') "
   ]
  },
  {
   "cell_type": "code",
   "execution_count": 8,
   "id": "284206fb",
   "metadata": {
    "execution": {
     "iopub.execute_input": "2023-03-30T15:32:27.353581Z",
     "iopub.status.busy": "2023-03-30T15:32:27.352448Z",
     "iopub.status.idle": "2023-03-30T15:32:27.371033Z",
     "shell.execute_reply": "2023-03-30T15:32:27.368647Z",
     "shell.execute_reply.started": "2023-03-30T15:32:27.353530Z"
    }
   },
   "outputs": [
    {
     "data": {
      "text/html": [
       "<div>\n",
       "<style scoped>\n",
       "    .dataframe tbody tr th:only-of-type {\n",
       "        vertical-align: middle;\n",
       "    }\n",
       "\n",
       "    .dataframe tbody tr th {\n",
       "        vertical-align: top;\n",
       "    }\n",
       "\n",
       "    .dataframe thead th {\n",
       "        text-align: right;\n",
       "    }\n",
       "</style>\n",
       "<table border=\"1\" class=\"dataframe\">\n",
       "  <thead>\n",
       "    <tr style=\"text-align: right;\">\n",
       "      <th></th>\n",
       "      <th>id</th>\n",
       "      <th>keyword</th>\n",
       "      <th>location</th>\n",
       "      <th>text</th>\n",
       "      <th>target</th>\n",
       "    </tr>\n",
       "  </thead>\n",
       "  <tbody>\n",
       "    <tr>\n",
       "      <th>0</th>\n",
       "      <td>1</td>\n",
       "      <td>NaN</td>\n",
       "      <td>NaN</td>\n",
       "      <td>Our Deeds are the Reason of this #earthquake M...</td>\n",
       "      <td>1</td>\n",
       "    </tr>\n",
       "    <tr>\n",
       "      <th>1</th>\n",
       "      <td>4</td>\n",
       "      <td>NaN</td>\n",
       "      <td>NaN</td>\n",
       "      <td>Forest fire near La Ronge Sask. Canada</td>\n",
       "      <td>1</td>\n",
       "    </tr>\n",
       "    <tr>\n",
       "      <th>2</th>\n",
       "      <td>5</td>\n",
       "      <td>NaN</td>\n",
       "      <td>NaN</td>\n",
       "      <td>All residents asked to 'shelter in place' are ...</td>\n",
       "      <td>1</td>\n",
       "    </tr>\n",
       "    <tr>\n",
       "      <th>3</th>\n",
       "      <td>6</td>\n",
       "      <td>NaN</td>\n",
       "      <td>NaN</td>\n",
       "      <td>13,000 people receive #wildfires evacuation or...</td>\n",
       "      <td>1</td>\n",
       "    </tr>\n",
       "    <tr>\n",
       "      <th>4</th>\n",
       "      <td>7</td>\n",
       "      <td>NaN</td>\n",
       "      <td>NaN</td>\n",
       "      <td>Just got sent this photo from Ruby #Alaska as ...</td>\n",
       "      <td>1</td>\n",
       "    </tr>\n",
       "  </tbody>\n",
       "</table>\n",
       "</div>"
      ],
      "text/plain": [
       "   id keyword location                                               text  \\\n",
       "0   1     NaN      NaN  Our Deeds are the Reason of this #earthquake M...   \n",
       "1   4     NaN      NaN             Forest fire near La Ronge Sask. Canada   \n",
       "2   5     NaN      NaN  All residents asked to 'shelter in place' are ...   \n",
       "3   6     NaN      NaN  13,000 people receive #wildfires evacuation or...   \n",
       "4   7     NaN      NaN  Just got sent this photo from Ruby #Alaska as ...   \n",
       "\n",
       "   target  \n",
       "0       1  \n",
       "1       1  \n",
       "2       1  \n",
       "3       1  \n",
       "4       1  "
      ]
     },
     "execution_count": 8,
     "metadata": {},
     "output_type": "execute_result"
    }
   ],
   "source": [
    "df.head()"
   ]
  },
  {
   "cell_type": "code",
   "execution_count": 9,
   "id": "0b9d4924",
   "metadata": {
    "execution": {
     "iopub.execute_input": "2023-03-30T15:32:27.819005Z",
     "iopub.status.busy": "2023-03-30T15:32:27.818533Z",
     "iopub.status.idle": "2023-03-30T15:32:27.841376Z",
     "shell.execute_reply": "2023-03-30T15:32:27.840322Z",
     "shell.execute_reply.started": "2023-03-30T15:32:27.818960Z"
    }
   },
   "outputs": [
    {
     "name": "stdout",
     "output_type": "stream",
     "text": [
      "<class 'pandas.core.frame.DataFrame'>\n",
      "RangeIndex: 7613 entries, 0 to 7612\n",
      "Data columns (total 5 columns):\n",
      " #   Column    Non-Null Count  Dtype \n",
      "---  ------    --------------  ----- \n",
      " 0   id        7613 non-null   int64 \n",
      " 1   keyword   7552 non-null   object\n",
      " 2   location  5080 non-null   object\n",
      " 3   text      7613 non-null   object\n",
      " 4   target    7613 non-null   int64 \n",
      "dtypes: int64(2), object(3)\n",
      "memory usage: 297.5+ KB\n"
     ]
    }
   ],
   "source": [
    "df.info()"
   ]
  },
  {
   "cell_type": "markdown",
   "id": "bd8c2e83",
   "metadata": {},
   "source": [
    "### peprocessing"
   ]
  },
  {
   "cell_type": "code",
   "execution_count": 10,
   "id": "f808a642",
   "metadata": {
    "scrolled": false
   },
   "outputs": [
    {
     "data": {
      "text/plain": [
       "\"ü|z|-|ã|r|(|$|å|Z|]|D|>|G|K|^|X|w|¨|U|ª|\\\\|C|Ñ|7|g|+|S|{|¡|Û|~|Q|I|c|A|«|i|.|â|||Ò|\\n|8|F|Ç|2|W|H|?|Â|0|1|P|\\x9d|`|R|m|'|Ï|Y|4|£|[|Ó|p|÷| |h|V|a|´|M|E|B|@|9|s|=|%|¢|¬|O|;|&|f|x|Ì|}|j|l|N|k|©|_|L|)|b|/|,|u|T|v|¤|e|*|¼|J|t|5|y|:|!|Ê|È|q|n|#|6|d|\\x89|o|3\""
      ]
     },
     "execution_count": 10,
     "metadata": {},
     "output_type": "execute_result"
    }
   ],
   "source": [
    "'|'.join(set(''.join(df.text.tolist()))) # уникальные символы"
   ]
  },
  {
   "cell_type": "code",
   "execution_count": 11,
   "id": "a589b94b",
   "metadata": {
    "execution": {
     "iopub.execute_input": "2023-03-30T15:32:29.819253Z",
     "iopub.status.busy": "2023-03-30T15:32:29.817986Z",
     "iopub.status.idle": "2023-03-30T15:32:29.872279Z",
     "shell.execute_reply": "2023-03-30T15:32:29.870620Z",
     "shell.execute_reply.started": "2023-03-30T15:32:29.819190Z"
    }
   },
   "outputs": [],
   "source": [
    "def text_cleaner(text):\n",
    "    '''\n",
    "    чистим от ссылок, спец символов и символов, которых нет в ascii\n",
    "    '''\n",
    "    text=text.lower()\n",
    "    text = re.sub(r'''((http|https)\\:\\/\\/)?[a-zA-Z0-9\\.\\/\\?\\:@\\-_=#]+\\.([a-zA-Z]){2,6}([a-zA-Z0-9\\.\\&\\/\\?\\:@\\-_=#])*''', \"\", text) # почистим url-ы\n",
    "    text = text.encode(\"ascii\", \"ignore\").decode() \n",
    "    text = re.sub(r'''[-$>^\\*+\\}\\{\\[\\]\\'\\`''=~;_&%@\\)\\(\\/\\|\\\\#:]+''','', text)\n",
    "    text=\" \".join(text.split())\n",
    "    return text\n",
    "\n",
    "df['text'] = df['text'].apply(text_cleaner) "
   ]
  },
  {
   "cell_type": "code",
   "execution_count": 12,
   "id": "6e92fdc8",
   "metadata": {
    "execution": {
     "iopub.execute_input": "2023-03-30T15:32:31.625329Z",
     "iopub.status.busy": "2023-03-30T15:32:31.624627Z",
     "iopub.status.idle": "2023-03-30T15:32:31.637972Z",
     "shell.execute_reply": "2023-03-30T15:32:31.636264Z",
     "shell.execute_reply.started": "2023-03-30T15:32:31.625286Z"
    }
   },
   "outputs": [
    {
     "data": {
      "text/plain": [
       "0    0.57034\n",
       "1    0.42966\n",
       "Name: target, dtype: float64"
      ]
     },
     "execution_count": 12,
     "metadata": {},
     "output_type": "execute_result"
    }
   ],
   "source": [
    "df.target.value_counts(normalize=True) \n",
    "# соотношение меток приемлимое, можно обойтись без даунсемплинга и пр."
   ]
  },
  {
   "cell_type": "code",
   "execution_count": 13,
   "id": "7f70d9b4",
   "metadata": {
    "execution": {
     "iopub.execute_input": "2023-03-30T15:32:43.452050Z",
     "iopub.status.busy": "2023-03-30T15:32:43.450822Z",
     "iopub.status.idle": "2023-03-30T15:32:43.461123Z",
     "shell.execute_reply": "2023-03-30T15:32:43.459686Z",
     "shell.execute_reply.started": "2023-03-30T15:32:43.452000Z"
    }
   },
   "outputs": [],
   "source": [
    "df.rename(columns={'target': 'label'}, inplace=True)"
   ]
  },
  {
   "cell_type": "code",
   "execution_count": 57,
   "id": "b1f25694",
   "metadata": {
    "execution": {
     "iopub.execute_input": "2023-03-30T15:32:46.287761Z",
     "iopub.status.busy": "2023-03-30T15:32:46.287306Z",
     "iopub.status.idle": "2023-03-30T15:32:46.299709Z",
     "shell.execute_reply": "2023-03-30T15:32:46.297921Z",
     "shell.execute_reply.started": "2023-03-30T15:32:46.287718Z"
    }
   },
   "outputs": [],
   "source": [
    "train, valid = train_test_split(df, test_size=0.2)"
   ]
  },
  {
   "cell_type": "code",
   "execution_count": 58,
   "id": "ad700a88",
   "metadata": {
    "execution": {
     "iopub.execute_input": "2023-03-30T15:32:46.637891Z",
     "iopub.status.busy": "2023-03-30T15:32:46.637385Z",
     "iopub.status.idle": "2023-03-30T15:32:46.651645Z",
     "shell.execute_reply": "2023-03-30T15:32:46.649697Z",
     "shell.execute_reply.started": "2023-03-30T15:32:46.637815Z"
    }
   },
   "outputs": [
    {
     "data": {
      "text/plain": [
       "((6090, 5), (1523, 5))"
      ]
     },
     "execution_count": 58,
     "metadata": {},
     "output_type": "execute_result"
    }
   ],
   "source": [
    "train.shape, valid.shape"
   ]
  },
  {
   "cell_type": "code",
   "execution_count": 59,
   "id": "fe027553",
   "metadata": {
    "execution": {
     "iopub.execute_input": "2023-03-30T15:32:49.327041Z",
     "iopub.status.busy": "2023-03-30T15:32:49.326448Z",
     "iopub.status.idle": "2023-03-30T15:32:49.339671Z",
     "shell.execute_reply": "2023-03-30T15:32:49.337027Z",
     "shell.execute_reply.started": "2023-03-30T15:32:49.326983Z"
    }
   },
   "outputs": [],
   "source": [
    "train.reset_index(drop=True, inplace=True)\n",
    "valid.reset_index(drop=True, inplace=True)"
   ]
  },
  {
   "cell_type": "code",
   "execution_count": 60,
   "id": "ad549475",
   "metadata": {
    "execution": {
     "iopub.execute_input": "2023-03-30T15:32:51.056920Z",
     "iopub.status.busy": "2023-03-30T15:32:51.056134Z",
     "iopub.status.idle": "2023-03-30T15:32:51.082192Z",
     "shell.execute_reply": "2023-03-30T15:32:51.080991Z",
     "shell.execute_reply.started": "2023-03-30T15:32:51.056873Z"
    }
   },
   "outputs": [],
   "source": [
    "train_d = Dataset.from_pandas(train[['text', 'label']])\n",
    "valid_d = Dataset.from_pandas(valid[['text', 'label']])"
   ]
  },
  {
   "cell_type": "markdown",
   "id": "b776695e",
   "metadata": {},
   "source": [
    "### Model"
   ]
  },
  {
   "cell_type": "code",
   "execution_count": 61,
   "id": "74621e20",
   "metadata": {},
   "outputs": [],
   "source": [
    "MODEL_NAME = \"bert-base-uncased\"\n",
    "# можно взять \"distilbert-base-uncased\", качество не сильно пострадает"
   ]
  },
  {
   "cell_type": "code",
   "execution_count": 62,
   "id": "0b1049c3",
   "metadata": {
    "execution": {
     "iopub.execute_input": "2023-03-30T15:32:52.552629Z",
     "iopub.status.busy": "2023-03-30T15:32:52.551258Z",
     "iopub.status.idle": "2023-03-30T15:32:52.881035Z",
     "shell.execute_reply": "2023-03-30T15:32:52.879124Z",
     "shell.execute_reply.started": "2023-03-30T15:32:52.552573Z"
    }
   },
   "outputs": [],
   "source": [
    "tokenizer = AutoTokenizer.from_pretrained(MODEL_NAME)"
   ]
  },
  {
   "cell_type": "code",
   "execution_count": 63,
   "id": "2d65ec38",
   "metadata": {
    "execution": {
     "iopub.execute_input": "2023-03-30T15:32:52.889139Z",
     "iopub.status.busy": "2023-03-30T15:32:52.887911Z",
     "iopub.status.idle": "2023-03-30T15:32:53.561218Z",
     "shell.execute_reply": "2023-03-30T15:32:53.560245Z",
     "shell.execute_reply.started": "2023-03-30T15:32:52.889071Z"
    }
   },
   "outputs": [
    {
     "data": {
      "application/vnd.jupyter.widget-view+json": {
       "model_id": "",
       "version_major": 2,
       "version_minor": 0
      },
      "text/plain": [
       "Map:   0%|          | 0/6090 [00:00<?, ? examples/s]"
      ]
     },
     "metadata": {},
     "output_type": "display_data"
    },
    {
     "data": {
      "application/vnd.jupyter.widget-view+json": {
       "model_id": "",
       "version_major": 2,
       "version_minor": 0
      },
      "text/plain": [
       "Map:   0%|          | 0/1523 [00:00<?, ? examples/s]"
      ]
     },
     "metadata": {},
     "output_type": "display_data"
    }
   ],
   "source": [
    "tokenized_train = train_d.map(lambda x: tokenizer(x[\"text\"], truncation=True), batched=True)\n",
    "tokenized_valid = valid_d.map(lambda x: tokenizer(x[\"text\"], truncation=True), batched=True)"
   ]
  },
  {
   "cell_type": "code",
   "execution_count": 64,
   "id": "b03bdb10",
   "metadata": {
    "execution": {
     "iopub.execute_input": "2023-03-30T15:32:54.834056Z",
     "iopub.status.busy": "2023-03-30T15:32:54.833264Z",
     "iopub.status.idle": "2023-03-30T15:32:54.843685Z",
     "shell.execute_reply": "2023-03-30T15:32:54.842648Z",
     "shell.execute_reply.started": "2023-03-30T15:32:54.834007Z"
    }
   },
   "outputs": [],
   "source": [
    "tokenized_train = tokenized_train.remove_columns('text')"
   ]
  },
  {
   "cell_type": "code",
   "execution_count": 65,
   "id": "782bffe8",
   "metadata": {
    "execution": {
     "iopub.execute_input": "2023-03-30T15:32:55.057588Z",
     "iopub.status.busy": "2023-03-30T15:32:55.056729Z",
     "iopub.status.idle": "2023-03-30T15:32:55.069934Z",
     "shell.execute_reply": "2023-03-30T15:32:55.067323Z",
     "shell.execute_reply.started": "2023-03-30T15:32:55.057540Z"
    }
   },
   "outputs": [],
   "source": [
    "tokenized_valid = tokenized_valid.remove_columns('text')"
   ]
  },
  {
   "cell_type": "code",
   "execution_count": 66,
   "id": "8b64480c",
   "metadata": {
    "execution": {
     "iopub.execute_input": "2023-03-30T15:32:55.424329Z",
     "iopub.status.busy": "2023-03-30T15:32:55.422813Z",
     "iopub.status.idle": "2023-03-30T15:32:55.431629Z",
     "shell.execute_reply": "2023-03-30T15:32:55.429949Z",
     "shell.execute_reply.started": "2023-03-30T15:32:55.424241Z"
    }
   },
   "outputs": [],
   "source": [
    "data_collator = DataCollatorWithPadding(tokenizer=tokenizer)"
   ]
  },
  {
   "cell_type": "code",
   "execution_count": 67,
   "id": "dff01104",
   "metadata": {
    "execution": {
     "iopub.execute_input": "2023-03-30T13:22:51.432648Z",
     "iopub.status.busy": "2023-03-30T13:22:51.432142Z",
     "iopub.status.idle": "2023-03-30T13:22:52.169585Z",
     "shell.execute_reply": "2023-03-30T13:22:52.168050Z",
     "shell.execute_reply.started": "2023-03-30T13:22:51.432596Z"
    }
   },
   "outputs": [],
   "source": [
    "f1_metric = evaluate.load(\"f1\")\n",
    "\n",
    "def compute_metrics(eval_pred):\n",
    "    predictions, labels = eval_pred\n",
    "    predictions = np.argmax(predictions, axis=1)\n",
    "    return f1_metric.compute(predictions=predictions, references=labels)"
   ]
  },
  {
   "cell_type": "code",
   "execution_count": 68,
   "id": "b49a3f29",
   "metadata": {
    "execution": {
     "iopub.execute_input": "2023-03-30T15:33:02.965560Z",
     "iopub.status.busy": "2023-03-30T15:33:02.964340Z",
     "iopub.status.idle": "2023-03-30T15:33:06.268529Z",
     "shell.execute_reply": "2023-03-30T15:33:06.266942Z",
     "shell.execute_reply.started": "2023-03-30T15:33:02.965475Z"
    }
   },
   "outputs": [
    {
     "name": "stderr",
     "output_type": "stream",
     "text": [
      "Some weights of the model checkpoint at bert-base-uncased were not used when initializing BertForSequenceClassification: ['cls.predictions.transform.dense.weight', 'cls.predictions.transform.LayerNorm.weight', 'cls.predictions.decoder.weight', 'cls.predictions.bias', 'cls.seq_relationship.bias', 'cls.predictions.transform.dense.bias', 'cls.seq_relationship.weight', 'cls.predictions.transform.LayerNorm.bias']\n",
      "- This IS expected if you are initializing BertForSequenceClassification from the checkpoint of a model trained on another task or with another architecture (e.g. initializing a BertForSequenceClassification model from a BertForPreTraining model).\n",
      "- This IS NOT expected if you are initializing BertForSequenceClassification from the checkpoint of a model that you expect to be exactly identical (initializing a BertForSequenceClassification model from a BertForSequenceClassification model).\n",
      "Some weights of BertForSequenceClassification were not initialized from the model checkpoint at bert-base-uncased and are newly initialized: ['classifier.bias', 'classifier.weight']\n",
      "You should probably TRAIN this model on a down-stream task to be able to use it for predictions and inference.\n"
     ]
    }
   ],
   "source": [
    "model = AutoModelForSequenceClassification.from_pretrained(MODEL_NAME, num_labels=2)"
   ]
  },
  {
   "cell_type": "code",
   "execution_count": 69,
   "id": "2b8119e4",
   "metadata": {
    "execution": {
     "iopub.execute_input": "2023-03-30T15:33:20.123295Z",
     "iopub.status.busy": "2023-03-30T15:33:20.121918Z",
     "iopub.status.idle": "2023-03-30T15:33:20.140963Z",
     "shell.execute_reply": "2023-03-30T15:33:20.138723Z",
     "shell.execute_reply.started": "2023-03-30T15:33:20.123235Z"
    }
   },
   "outputs": [],
   "source": [
    "training_args = TrainingArguments(\n",
    "    output_dir=\"model_bert_2e-6\",\n",
    "    learning_rate=2e-6,\n",
    "    per_device_train_batch_size=16,\n",
    "    per_device_eval_batch_size=16,\n",
    "    num_train_epochs=5,\n",
    "    weight_decay=0.01,\n",
    "    evaluation_strategy=\"epoch\",\n",
    "    save_strategy=\"epoch\",\n",
    "    load_best_model_at_end=True,\n",
    "    push_to_hub=False,\n",
    "    remove_unused_columns=False\n",
    ")\n",
    "\n",
    "trainer = Trainer(\n",
    "    model=model,\n",
    "    args=training_args,\n",
    "    train_dataset=tokenized_train,\n",
    "    eval_dataset=tokenized_valid,\n",
    "    tokenizer=tokenizer,\n",
    "    data_collator=data_collator,\n",
    "    compute_metrics=compute_metrics,\n",
    ")"
   ]
  },
  {
   "cell_type": "code",
   "execution_count": 70,
   "id": "a97503a9",
   "metadata": {},
   "outputs": [
    {
     "name": "stderr",
     "output_type": "stream",
     "text": [
      "C:\\Users\\jocke\\Documents\\leaning\\kgl_disaster\\venv\\lib\\site-packages\\transformers\\optimization.py:391: FutureWarning: This implementation of AdamW is deprecated and will be removed in a future version. Use the PyTorch implementation torch.optim.AdamW instead, or set `no_deprecation_warning=True` to disable this warning\n",
      "  warnings.warn(\n",
      "You're using a BertTokenizerFast tokenizer. Please note that with a fast tokenizer, using the `__call__` method is faster than using a method to encode the text followed by a call to the `pad` method to get a padded encoding.\n"
     ]
    },
    {
     "data": {
      "text/html": [
       "\n",
       "    <div>\n",
       "      \n",
       "      <progress value='1905' max='1905' style='width:300px; height:20px; vertical-align: middle;'></progress>\n",
       "      [1905/1905 02:18, Epoch 5/5]\n",
       "    </div>\n",
       "    <table border=\"1\" class=\"dataframe\">\n",
       "  <thead>\n",
       " <tr style=\"text-align: left;\">\n",
       "      <th>Epoch</th>\n",
       "      <th>Training Loss</th>\n",
       "      <th>Validation Loss</th>\n",
       "      <th>F1</th>\n",
       "    </tr>\n",
       "  </thead>\n",
       "  <tbody>\n",
       "    <tr>\n",
       "      <td>1</td>\n",
       "      <td>No log</td>\n",
       "      <td>0.474800</td>\n",
       "      <td>0.750383</td>\n",
       "    </tr>\n",
       "    <tr>\n",
       "      <td>2</td>\n",
       "      <td>0.551800</td>\n",
       "      <td>0.423271</td>\n",
       "      <td>0.783912</td>\n",
       "    </tr>\n",
       "    <tr>\n",
       "      <td>3</td>\n",
       "      <td>0.416600</td>\n",
       "      <td>0.416983</td>\n",
       "      <td>0.788491</td>\n",
       "    </tr>\n",
       "    <tr>\n",
       "      <td>4</td>\n",
       "      <td>0.389900</td>\n",
       "      <td>0.412062</td>\n",
       "      <td>0.792453</td>\n",
       "    </tr>\n",
       "    <tr>\n",
       "      <td>5</td>\n",
       "      <td>0.389900</td>\n",
       "      <td>0.411978</td>\n",
       "      <td>0.794326</td>\n",
       "    </tr>\n",
       "  </tbody>\n",
       "</table><p>"
      ],
      "text/plain": [
       "<IPython.core.display.HTML object>"
      ]
     },
     "metadata": {},
     "output_type": "display_data"
    },
    {
     "data": {
      "text/plain": [
       "TrainOutput(global_step=1905, training_loss=0.43424471957789945, metrics={'train_runtime': 138.6699, 'train_samples_per_second': 219.586, 'train_steps_per_second': 13.738, 'total_flos': 560215853517000.0, 'train_loss': 0.43424471957789945, 'epoch': 5.0})"
      ]
     },
     "execution_count": 70,
     "metadata": {},
     "output_type": "execute_result"
    }
   ],
   "source": [
    "trainer.train()"
   ]
  },
  {
   "cell_type": "markdown",
   "id": "d3f5ae23",
   "metadata": {},
   "source": [
    "### Inference"
   ]
  },
  {
   "cell_type": "code",
   "execution_count": 28,
   "id": "53c23def",
   "metadata": {},
   "outputs": [],
   "source": [
    "from transformers import pipeline"
   ]
  },
  {
   "cell_type": "code",
   "execution_count": 30,
   "id": "fa487dcc",
   "metadata": {},
   "outputs": [],
   "source": [
    "label2id = {\"LABEL_0\": 0, \"LABEL_1\": 1}"
   ]
  },
  {
   "cell_type": "code",
   "execution_count": 31,
   "id": "b615f15e",
   "metadata": {},
   "outputs": [],
   "source": [
    "test = pd.read_csv('test.csv')\n",
    "# for kaggle\n",
    "# test = pd.read_csv('/kaggle/input/nlp-getting-started/test.csv') \n",
    "\n",
    "test['text'] = test['text'].apply(text_cleaner)"
   ]
  },
  {
   "cell_type": "code",
   "execution_count": 72,
   "id": "31127d09",
   "metadata": {},
   "outputs": [
    {
     "data": {
      "text/plain": [
       "'model_bert_2e-6\\\\checkpoint-1905'"
      ]
     },
     "execution_count": 72,
     "metadata": {},
     "output_type": "execute_result"
    }
   ],
   "source": [
    "model_path = trainer.state.best_model_checkpoint\n",
    "model_path"
   ]
  },
  {
   "cell_type": "code",
   "execution_count": 42,
   "id": "fb137cb5",
   "metadata": {},
   "outputs": [],
   "source": [
    "classifier = pipeline(\"sentiment-analysis\", model=model_path)\n",
    "test['target'] = test.text.apply(lambda x: label2id[classifier(x)[0]['label']])"
   ]
  },
  {
   "cell_type": "code",
   "execution_count": null,
   "id": "b70cfc34",
   "metadata": {
    "execution": {
     "iopub.execute_input": "2023-03-30T16:31:29.423991Z",
     "iopub.status.busy": "2023-03-30T16:31:29.423524Z",
     "iopub.status.idle": "2023-03-30T16:31:29.440249Z",
     "shell.execute_reply": "2023-03-30T16:31:29.438779Z",
     "shell.execute_reply.started": "2023-03-30T16:31:29.423947Z"
    }
   },
   "outputs": [],
   "source": [
    "test.to_csv('submission_bert.csv', columns=['id', 'target'], index=False)"
   ]
  },
  {
   "cell_type": "code",
   "execution_count": null,
   "id": "0761afb0",
   "metadata": {},
   "outputs": [],
   "source": []
  },
  {
   "cell_type": "code",
   "execution_count": null,
   "id": "c165c7be",
   "metadata": {},
   "outputs": [],
   "source": []
  }
 ],
 "metadata": {
  "kernelspec": {
   "display_name": "Python 3 (ipykernel)",
   "language": "python",
   "name": "python3"
  },
  "language_info": {
   "codemirror_mode": {
    "name": "ipython",
    "version": 3
   },
   "file_extension": ".py",
   "mimetype": "text/x-python",
   "name": "python",
   "nbconvert_exporter": "python",
   "pygments_lexer": "ipython3",
   "version": "3.10.9"
  }
 },
 "nbformat": 4,
 "nbformat_minor": 5
}
